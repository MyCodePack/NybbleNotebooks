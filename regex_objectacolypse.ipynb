{
 "cells": [
  {
   "cell_type": "markdown",
   "metadata": {},
   "source": [
    "Click Cell -> Run All to use"
   ]
  },
  {
   "cell_type": "code",
   "execution_count": null,
   "metadata": {},
   "outputs": [],
   "source": [
    "import re\n",
    "import random\n",
    "from typing import List"
   ]
  },
  {
   "cell_type": "code",
   "execution_count": null,
   "metadata": {},
   "outputs": [],
   "source": [
    "# You can modify these constants to observe how the size affects execution time.\n",
    "# Increasing them too high will lead to long execution times for %%timeit cells.\n",
    "NUM_EXPRESSIONS = 100_000;\n",
    "LENGTH_EXPRESSIONS = 100;\n",
    "\n",
    "def create_expressions(num_of_expression: int, length: int) -> List[str]:\n",
    "  OPERATORS = '+-/*^abcd'\n",
    "  expressions = []\n",
    "\n",
    "  for _ in range(num_of_expression):\n",
    "    exp: List[str] = random.choices(OPERATORS, k=LENGTH_EXPRESSIONS)\n",
    "    exp: str = ''.join(exp)\n",
    "    expressions.append(exp)\n",
    "\n",
    "  return expressions\n",
    "\n",
    "\n",
    "def bad_regex(expressions: List[str]) -> int:\n",
    "  count = 0\n",
    "\n",
    "  for string in expressions:\n",
    "    for char in string:\n",
    "      if (re.match(\"[-+*^/]\", char)):\n",
    "        count += 1\n",
    "  \n",
    "  return count\n",
    "\n",
    "def better_regex(expressions: List[str]) -> int:\n",
    "  operators_pattern = re.compile(r'[-+*^/]')\n",
    "  count = 0\n",
    "\n",
    "  for string in expressions:\n",
    "    for char in string:\n",
    "      if (operators_pattern.match(char)):\n",
    "        count += 1\n",
    "  \n",
    "  return count\n",
    "\n",
    "expressions_list = create_expressions(NUM_EXPRESSIONS, LENGTH_EXPRESSIONS)"
   ]
  },
  {
   "cell_type": "code",
   "execution_count": null,
   "metadata": {},
   "outputs": [],
   "source": [
    "%%timeit -r 2 -n 1\n",
    "bad_regex(expressions_list)"
   ]
  },
  {
   "cell_type": "code",
   "execution_count": null,
   "metadata": {},
   "outputs": [],
   "source": [
    "%%timeit -r 2 -n 1\n",
    "better_regex(expressions_list)"
   ]
  },
  {
   "cell_type": "markdown",
   "metadata": {},
   "source": [
    "## Notes on %%timeit\n",
    "The `%%timeit` magic cell feature of Jupyter notebooks is used to measure the execution time.\n",
    "See [reference](https://ipython.readthedocs.io/en/stable/interactive/magics.html#magic-timeit) for more information and flags.\n",
    "\n",
    "### Tips\n",
    "If using a local/fast machine, use just `%%timeit` to enable the default settings. The defaults change depending on the performance.\n",
    "\n",
    "If using a remote/slow machine, you may want to use something like `%%timeit -r 2 -n 1`\n",
    "\n",
    "#### Examples:\n",
    "\n",
    "`%%timeit -r 2 -n 1`: Run the cell and [r]epeat 2 times, looping [n] times (1) each run."
   ]
  }
 ],
 "metadata": {
  "kernelspec": {
   "display_name": "Python 3",
   "language": "python",
   "name": "python3"
  },
  "language_info": {
   "codemirror_mode": {
    "name": "ipython",
    "version": 3
   },
   "file_extension": ".py",
   "mimetype": "text/x-python",
   "name": "python",
   "nbconvert_exporter": "python",
   "pygments_lexer": "ipython3",
   "version": "3.7.6"
  }
 },
 "nbformat": 4,
 "nbformat_minor": 4
}
