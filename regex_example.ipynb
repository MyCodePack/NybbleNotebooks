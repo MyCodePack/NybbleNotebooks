{
 "cells": [
  {
   "cell_type": "code",
   "execution_count": 4,
   "metadata": {},
   "outputs": [],
   "source": [
    "import re\n",
    "import random\n",
    "from typing import List"
   ]
  },
  {
   "cell_type": "code",
   "execution_count": 48,
   "metadata": {},
   "outputs": [],
   "source": [
    "NUM_EXPRESSIONS = 100_000;\n",
    "LENGTH_EXPRESSIONS = 100;\n",
    "\n",
    "def create_expressions(num_of_expression: int, length: int) -> List[str]:\n",
    "  OPERATORS = '+-/*^abcd'\n",
    "  expressions = []\n",
    "\n",
    "  for _ in range(num_of_expression):\n",
    "    exp: List[str] = random.choices(OPERATORS, k=LENGTH_EXPRESSIONS)\n",
    "    exp: str = ''.join(exp)\n",
    "    expressions.append(exp)\n",
    "\n",
    "  return expressions\n",
    "\n",
    "def bad_count(expressions: List[str]) -> int:\n",
    "  count = 0\n",
    "\n",
    "  for string in expressions:\n",
    "    for char in string:\n",
    "      if (re.match(\"[-+*^/]\", char)):\n",
    "        count += 1\n",
    "  \n",
    "  return count\n",
    "\n",
    "def good_count(expressions: List[str]) -> int:\n",
    "  operators_pattern = re.compile(r'[-+*^/]')\n",
    "  count = 0\n",
    "\n",
    "  for string in expressions:\n",
    "    for char in string:\n",
    "      if (operators_pattern.match(char)):\n",
    "        count += 1\n",
    "  \n",
    "  return count\n",
    "\n",
    "expressions_list = createExpressionList(NUM_EXPRESSIONS, LENGTH_EXPRESSIONS)"
   ]
  },
  {
   "cell_type": "code",
   "execution_count": 49,
   "metadata": {},
   "outputs": [
    {
     "name": "stdout",
     "output_type": "stream",
     "text": [
      "6.97 s ± 81.3 ms per loop (mean ± std. dev. of 7 runs, 1 loop each)\n"
     ]
    }
   ],
   "source": [
    "%%timeit\n",
    "bad_count(expressions_list)"
   ]
  },
  {
   "cell_type": "code",
   "execution_count": 50,
   "metadata": {},
   "outputs": [
    {
     "name": "stdout",
     "output_type": "stream",
     "text": [
      "2.46 s ± 5.52 ms per loop (mean ± std. dev. of 7 runs, 1 loop each)\n"
     ]
    }
   ],
   "source": [
    "%%timeit\n",
    "good_count(expressions_list)"
   ]
  },
  {
   "cell_type": "markdown",
   "metadata": {},
   "source": [
    "## Notes on %%timeit\n",
    "The `%%timeit` magic cell feature of Jupyter notebooks is used to measure the execution time.\n",
    "See [reference](https://ipython.readthedocs.io/en/stable/interactive/magics.html#magic-timeit) for more information and flags.\n",
    "\n",
    "#### Example:\n",
    "\n",
    "`%%timeit -r 10 -n 5`: Run the cell [r]epeat [n] times and take the best result"
   ]
  }
 ],
 "metadata": {
  "kernelspec": {
   "display_name": "Python 3",
   "language": "python",
   "name": "python3"
  },
  "language_info": {
   "codemirror_mode": {
    "name": "ipython",
    "version": 3
   },
   "file_extension": ".py",
   "mimetype": "text/x-python",
   "name": "python",
   "nbconvert_exporter": "python",
   "pygments_lexer": "ipython3",
   "version": "3.7.6"
  }
 },
 "nbformat": 4,
 "nbformat_minor": 4
}
